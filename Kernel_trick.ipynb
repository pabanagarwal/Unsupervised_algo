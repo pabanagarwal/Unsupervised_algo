{
 "cells": [
  {
   "cell_type": "code",
   "execution_count": 9,
   "metadata": {},
   "outputs": [],
   "source": [
    "import numpy as np\n",
    "def transform(x):\n",
    "    return[ x[0]**2 ,np.sqrt(2)*x[0]*x[1], x[1]**2]"
   ]
  },
  {
   "cell_type": "code",
   "execution_count": 16,
   "metadata": {},
   "outputs": [],
   "source": [
    "x1 = [3,6]\n",
    "x2 = [10,10]\n",
    "\n"
   ]
  },
  {
   "cell_type": "code",
   "execution_count": 17,
   "metadata": {},
   "outputs": [],
   "source": [
    "x1_3d = transform(x1)\n",
    "x2_3d = transform(x2)"
   ]
  },
  {
   "cell_type": "code",
   "execution_count": 18,
   "metadata": {},
   "outputs": [
    {
     "name": "stdout",
     "output_type": "stream",
     "text": [
      "[9, 25.455844122715714, 36]\n",
      "[100, 141.4213562373095, 100]\n",
      "8100.0\n"
     ]
    }
   ],
   "source": [
    "print (x1_3d)\n",
    "print(x2_3d)\n",
    "\n",
    "print (np.dot(x1_3d, x2_3d))"
   ]
  },
  {
   "cell_type": "code",
   "execution_count": null,
   "metadata": {},
   "outputs": [],
   "source": [
    "# Covers therorem - data points not linearly separable in lower dimensions are likely to be separable in higher dimensions\n",
    "\n",
    "# When we transform into higher dimensions all the data points we may find the solution\n",
    "\n",
    "# but transforming all data points into highere dimensions can be computationally intensive"
   ]
  },
  {
   "cell_type": "code",
   "execution_count": 20,
   "metadata": {},
   "outputs": [],
   "source": [
    "def polynomial_kernel(a , b):\n",
    "    return(a[0]**2 * b[0]**2 + 2*a[0]*b[0]*a[1]*b[1] + a[1]**2 * b[1]**2 )"
   ]
  },
  {
   "cell_type": "code",
   "execution_count": 21,
   "metadata": {},
   "outputs": [
    {
     "name": "stdout",
     "output_type": "stream",
     "text": [
      "8100\n"
     ]
    }
   ],
   "source": [
    "print (polynomial_kernel(x1, x2))"
   ]
  },
  {
   "cell_type": "code",
   "execution_count": null,
   "metadata": {},
   "outputs": [],
   "source": [
    "# both polynomial_kerenel and transform return same value!  transform function transforms to higher dimensions....\n",
    "\n",
    "# which means, using kernels we can manipulate data points in lower dimensions and get the same results we would have obtained in \n",
    "# higher dimensions!"
   ]
  },
  {
   "cell_type": "code",
   "execution_count": null,
   "metadata": {},
   "outputs": [],
   "source": [
    "# This is called kernel_trick\n",
    "\n",
    "\n"
   ]
  }
 ],
 "metadata": {
  "kernelspec": {
   "display_name": "Python 3",
   "language": "python",
   "name": "python3"
  },
  "language_info": {
   "codemirror_mode": {
    "name": "ipython",
    "version": 3
   },
   "file_extension": ".py",
   "mimetype": "text/x-python",
   "name": "python",
   "nbconvert_exporter": "python",
   "pygments_lexer": "ipython3",
   "version": "3.6.4"
  }
 },
 "nbformat": 4,
 "nbformat_minor": 2
}
